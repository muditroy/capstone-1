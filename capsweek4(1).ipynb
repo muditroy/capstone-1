{
 "cells": [
  {
   "cell_type": "markdown",
   "metadata": {},
   "source": [
    "# Capstone Project_Part1 (W4)"
   ]
  },
  {
   "cell_type": "markdown",
   "metadata": {},
   "source": [
    "## Description of Problem"
   ]
  },
  {
   "cell_type": "markdown",
   "metadata": {},
   "source": [
    "### Business Understanding"
   ]
  },
  {
   "cell_type": "markdown",
   "metadata": {},
   "source": [
    "Problem brought up by Client -\n",
    "Which City and Locality is best to open a hotel/Shopping mall in india?\n",
    "\n",
    "Background My client is a successful Entrepreneur in china and now he wants to expand his Business in other countries. He wants to open a hotel/Shopping Mall in india but not sure in which City and Locality he should open the Mall and be Succeessful.\n",
    " "
   ]
  },
  {
   "cell_type": "markdown",
   "metadata": {},
   "source": [
    "### Analytical approach-"
   ]
  },
  {
   "cell_type": "markdown",
   "metadata": {},
   "source": [
    "According to the need of client first we have to find the City and then the Locality in that city for Business. To solve this particular problem and to gather data we will set few Benchmarks for the City and the locality in which opening a hotel/Shopping Mall would be Successful.\n",
    "\n",
    "For discovering the City following benchmarks must meet\n",
    "Nightlife\n",
    "Services\n",
    "Transport\n",
    "Residence\n",
    "Universities\n",
    "Food\n",
    "Entertainment\n",
    "Travel\n",
    "Outdoor Activities\n",
    "Benchmarks for the Locality in City\n",
    "Population\n",
    "Population Density\n",
    "Venues"
   ]
  },
  {
   "cell_type": "markdown",
   "metadata": {},
   "source": [
    "## Data Requirements and Description-"
   ]
  },
  {
   "cell_type": "markdown",
   "metadata": {},
   "source": [
    "Data that will be required for solving the problem -\n",
    "\n",
    "List of all the cities in india with population  and coordinates\n",
    "\n",
    "List of all venues in each city\n",
    "\n",
    "List of all venues in each locality in the selected city"
   ]
  },
  {
   "cell_type": "markdown",
   "metadata": {},
   "source": [
    "For Venues in CIty and in Each locality in selected city."
   ]
  },
  {
   "cell_type": "markdown",
   "metadata": {},
   "source": [
    "## FourSquare API"
   ]
  },
  {
   "cell_type": "markdown",
   "metadata": {},
   "source": []
  },
  {
   "cell_type": "markdown",
   "metadata": {},
   "source": [
    "## Source of Data"
   ]
  },
  {
   "cell_type": "markdown",
   "metadata": {},
   "source": [
    "https://www.downloadexcelfiles.com/wo_en/download-list-latitudelongitude-cities-india#.XTrl8OgzaMo\n",
    "    \n",
    "https://www.downloadexcelfiles.com/wo_en/download-excel-file-list-cities-towns-india#.XTrqD-gzaMo\n",
    "    \n",
    "https://simplemaps.com/data/in-cities\n",
    "    "
   ]
  },
  {
   "cell_type": "markdown",
   "metadata": {},
   "source": [
    "## Data Description"
   ]
  },
  {
   "cell_type": "markdown",
   "metadata": {},
   "source": [
    "By Using the Wikipedia data we will first analyse the data and then focus on certain benchmarks to discover the best City in india to open a hotel/Shopping mall. Then by leveraging the Foursquare data we will compare and try to find the best locality. Based on Scores we will try to determine the Locality in simillar way."
   ]
  },
  {
   "cell_type": "code",
   "execution_count": null,
   "metadata": {},
   "outputs": [],
   "source": []
  },
  {
   "cell_type": "code",
   "execution_count": null,
   "metadata": {},
   "outputs": [],
   "source": []
  },
  {
   "cell_type": "code",
   "execution_count": null,
   "metadata": {},
   "outputs": [],
   "source": []
  }
 ],
 "metadata": {
  "kernelspec": {
   "display_name": "Python",
   "language": "python",
   "name": "conda-env-python-py"
  },
  "language_info": {
   "codemirror_mode": {
    "name": "ipython",
    "version": 3
   },
   "file_extension": ".py",
   "mimetype": "text/x-python",
   "name": "python",
   "nbconvert_exporter": "python",
   "pygments_lexer": "ipython3",
   "version": "3.6.7"
  }
 },
 "nbformat": 4,
 "nbformat_minor": 4
}
